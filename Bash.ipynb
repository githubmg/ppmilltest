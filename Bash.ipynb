{
 "cells": [
  {
   "cell_type": "code",
   "execution_count": null,
   "metadata": {},
   "outputs": [],
   "source": [
    "import json\n",
    "import base64"
   ]
  },
  {
   "cell_type": "code",
   "execution_count": null,
   "metadata": {},
   "outputs": [],
   "source": [
    "proj = 'nb'\n",
    "nb = 'NotebookIn.ipynb'"
   ]
  },
  {
   "cell_type": "code",
   "execution_count": null,
   "metadata": {},
   "outputs": [],
   "source": [
    "! aws codecommit delete-repository --repository-name nb"
   ]
  },
  {
   "cell_type": "code",
   "execution_count": null,
   "metadata": {},
   "outputs": [],
   "source": [
    "%%bash -s \"$proj\"  --out output\n",
    "aws codecommit create-repository \\\n",
    "--repository-name  $1"
   ]
  },
  {
   "cell_type": "code",
   "execution_count": null,
   "metadata": {},
   "outputs": [],
   "source": [
    "repo = json.loads(output)\n",
    "repo"
   ]
  },
  {
   "cell_type": "code",
   "execution_count": null,
   "metadata": {},
   "outputs": [],
   "source": [
    "repo_url = repo['repositoryMetadata']['cloneUrlHttp']\n",
    "repo_url"
   ]
  },
  {
   "cell_type": "code",
   "execution_count": null,
   "metadata": {},
   "outputs": [],
   "source": [
    "%%bash -s \"$nb\" \"$repo_url\"\n",
    "rm -rf .git \n",
    "git init\n",
    "git add $1\n",
    "git commit -m 'first'\n",
    "git remote add origin $2\n",
    "git push origin master\n"
   ]
  },
  {
   "cell_type": "code",
   "execution_count": null,
   "metadata": {},
   "outputs": [],
   "source": [
    "repo_url = 'https://github.com/githubmg/ppmilltest.git'"
   ]
  },
  {
   "cell_type": "code",
   "execution_count": null,
   "metadata": {},
   "outputs": [],
   "source": [
    "script = \\\n",
    "'sudo python -m ipykernel install --name conda_python3 \\n' + \\\n",
    "'pip install papermill \\n' + \\\n",
    "'git clone ' + repo_url + ' \\n' + \\\n",
    "'python - << EOF \\n' + \\\n",
    "'import papermill as pm \\n' + \\\n",
    "'pm.execute_notebook( \\n' + \\\n",
    "'   \"/home/ec2-user/ppmilltest/' + nb +'\", \\n' + \\\n",
    "'   \"/home/ec2-user/ppmilltest/' + nb[:-6] + 'out.ipynb\" \\n' + \\\n",
    "') \\n' +  \\\n",
    "'EOF'"
   ]
  },
  {
   "cell_type": "code",
   "execution_count": null,
   "metadata": {},
   "outputs": [],
   "source": [
    "encoded = base64.b64encode(script)"
   ]
  },
  {
   "cell_type": "code",
   "execution_count": null,
   "metadata": {},
   "outputs": [],
   "source": [
    "encoded"
   ]
  },
  {
   "cell_type": "code",
   "execution_count": null,
   "metadata": {},
   "outputs": [],
   "source": [
    "#! aws sagemaker   delete-notebook-instance-lifecycle-config --notebook-instance-lifecycle-config-name nb"
   ]
  },
  {
   "cell_type": "code",
   "execution_count": null,
   "metadata": {},
   "outputs": [],
   "source": [
    "%%bash -s \"$proj\" \"$encoded\"\n",
    "aws sagemaker create-notebook-instance-lifecycle-config \\\n",
    "--notebook-instance-lifecycle-config-name $1 \\\n",
    "--on-create '[{\"Content\": \"c3VkbyBweXRob24gLW0gaXB5a2VybmVsIGluc3RhbGwgLS1uYW1lIGNvbmRhX3B5dGhvbjMgCnBpcCBpbnN0YWxsIHBhcGVybWlsbCAKZ2l0IGNsb25lIGh0dHBzOi8vZ2l0aHViLmNvbS9naXRodWJtZy9wcG1pbGx0ZXN0LmdpdCAKcHl0aG9uIC0gPDwgRU9GIAppbXBvcnQgcGFwZXJtaWxsIGFzIHBtIApwbS5leGVjdXRlX25vdGVib29rKCAKICAgIi9ob21lL2VjMi11c2VyL3BwbWlsbHRlc3QvTm90ZWJvb2tJbi5pcHluYiIsIAogICAiL2hvbWUvZWMyLXVzZXIvcHBtaWxsdGVzdC9Ob3RlYm9va0lub3V0LmlweW5iIiAKKSAKRU9G\"}]'"
   ]
  },
  {
   "cell_type": "code",
   "execution_count": null,
   "metadata": {},
   "outputs": [],
   "source": [
    "%%bash -s \"$proj\" \"$repo_url\"\n",
    "aws sagemaker create-notebook-instance \\\n",
    "--notebook-instance-name $1 \\\n",
    "--instance-type ml.t2.medium \\\n",
    "--role-arn arn:aws:iam::452432741922:role/service-role/AmazonSageMaker-ExecutionRole-20181022T121720 \\\n",
    "--lifecycle-config-name $1 "
   ]
  },
  {
   "cell_type": "code",
   "execution_count": null,
   "metadata": {},
   "outputs": [],
   "source": [
    "%%bash\n",
    "aws sagemaker describe-notebook-instance --notebook-instance-name nb"
   ]
  },
  {
   "cell_type": "code",
   "execution_count": null,
   "metadata": {},
   "outputs": [],
   "source": []
  }
 ],
 "metadata": {
  "kernelspec": {
   "display_name": "conda_python3",
   "language": "python",
   "name": "conda_python3"
  },
  "language_info": {
   "codemirror_mode": {
    "name": "ipython",
    "version": 2
   },
   "file_extension": ".py",
   "mimetype": "text/x-python",
   "name": "python",
   "nbconvert_exporter": "python",
   "pygments_lexer": "ipython2",
   "version": "2.7.14"
  }
 },
 "nbformat": 4,
 "nbformat_minor": 2
}
